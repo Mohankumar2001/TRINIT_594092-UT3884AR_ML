{
 "cells": [
  {
   "cell_type": "code",
   "execution_count": 36,
   "metadata": {},
   "outputs": [
    {
     "name": "stdout",
     "output_type": "stream",
     "text": [
      "Collecting xarray"
     ]
    },
    {
     "name": "stderr",
     "output_type": "stream",
     "text": [
      "\n",
      "[notice] A new release of pip available: 22.2.2 -> 23.0\n",
      "[notice] To update, run: C:\\Users\\Mohan Kumar\\AppData\\Local\\Microsoft\\WindowsApps\\PythonSoftwareFoundation.Python.3.9_qbz5n2kfra8p0\\python.exe -m pip install --upgrade pip\n"
     ]
    },
    {
     "name": "stdout",
     "output_type": "stream",
     "text": [
      "\n",
      "  Downloading xarray-2023.2.0-py3-none-any.whl (975 kB)\n",
      "     -------------------------------------- 975.8/975.8 kB 1.8 MB/s eta 0:00:00\n",
      "Requirement already satisfied: packaging>=21.3 in c:\\users\\mohan kumar\\appdata\\local\\packages\\pythonsoftwarefoundation.python.3.9_qbz5n2kfra8p0\\localcache\\local-packages\\python39\\site-packages (from xarray) (21.3)\n",
      "Collecting pandas>=1.4\n",
      "  Downloading pandas-1.5.3-cp39-cp39-win_amd64.whl (10.9 MB)\n",
      "     ---------------------------------------- 10.9/10.9 MB 1.5 MB/s eta 0:00:00\n",
      "Requirement already satisfied: numpy>=1.21 in c:\\users\\mohan kumar\\appdata\\local\\packages\\pythonsoftwarefoundation.python.3.9_qbz5n2kfra8p0\\localcache\\local-packages\\python39\\site-packages (from xarray) (1.21.3)\n",
      "Requirement already satisfied: pyparsing!=3.0.5,>=2.0.2 in c:\\users\\mohan kumar\\appdata\\local\\packages\\pythonsoftwarefoundation.python.3.9_qbz5n2kfra8p0\\localcache\\local-packages\\python39\\site-packages (from packaging>=21.3->xarray) (3.0.9)\n",
      "Requirement already satisfied: pytz>=2020.1 in c:\\users\\mohan kumar\\appdata\\local\\packages\\pythonsoftwarefoundation.python.3.9_qbz5n2kfra8p0\\localcache\\local-packages\\python39\\site-packages (from pandas>=1.4->xarray) (2021.3)\n",
      "Requirement already satisfied: python-dateutil>=2.8.1 in c:\\users\\mohan kumar\\appdata\\local\\packages\\pythonsoftwarefoundation.python.3.9_qbz5n2kfra8p0\\localcache\\local-packages\\python39\\site-packages (from pandas>=1.4->xarray) (2.8.2)\n",
      "Requirement already satisfied: six>=1.5 in c:\\users\\mohan kumar\\appdata\\local\\packages\\pythonsoftwarefoundation.python.3.9_qbz5n2kfra8p0\\localcache\\local-packages\\python39\\site-packages (from python-dateutil>=2.8.1->pandas>=1.4->xarray) (1.15.0)\n",
      "Installing collected packages: pandas, xarray\n",
      "  Attempting uninstall: pandas\n",
      "    Found existing installation: pandas 1.3.4\n",
      "    Uninstalling pandas-1.3.4:\n",
      "      Successfully uninstalled pandas-1.3.4\n",
      "Successfully installed pandas-1.5.3 xarray-2023.2.0\n"
     ]
    }
   ],
   "source": [
    "!pip3 install xarray"
   ]
  },
  {
   "cell_type": "code",
   "execution_count": 5,
   "metadata": {},
   "outputs": [],
   "source": [
    "import netCDF4 as nc\n",
    "fn = 'oco2_LtCO2_160101_B11014Ar_230206210311s.SUB.nc4'\n",
    "ds = nc.Dataset(fn)"
   ]
  },
  {
   "cell_type": "code",
   "execution_count": 58,
   "metadata": {},
   "outputs": [],
   "source": [
    "ds = nc.Dataset('data2.nc4')"
   ]
  },
  {
   "cell_type": "code",
   "execution_count": 48,
   "metadata": {},
   "outputs": [],
   "source": [
    "import pandas as pd"
   ]
  },
  {
   "cell_type": "code",
   "execution_count": null,
   "metadata": {},
   "outputs": [],
   "source": []
  },
  {
   "cell_type": "code",
   "execution_count": 59,
   "metadata": {},
   "outputs": [
    {
     "data": {
      "text/plain": [
       "<class 'netCDF4._netCDF4.Dataset'>\n",
       "root group (NETCDF4 data model, file format HDF5):\n",
       "    filter_function: oco2_xco2_quality_flag_b11\n",
       "    Conventions: CF-1.7\n",
       "    bc_function: oco2_xco2_bias_correct_b11\n",
       "    l2_reader: read_oco_l2_b11\n",
       "    lite_definition_module: lite_file_definition_oco2_b11\n",
       "    filtering state: Filtered with oco2_lite_file_prefilter_b11\n",
       "    warn_level_function: None\n",
       "    Bias_Correction_land: XCO2_Bias_Corrected = (XCO2_Raw + 0.830*(dpfrac + 0.0) + 0.0330*(co2_grad_del + 5.00) + 0.270*((logDWS>(-5.0)) + 5.00) - 6.70*(aod_fine - 0.0300) + 33.0*(aod_ic - 0.00600) - 0.480*(albedo_quad_wco2*1e6 + 0.0600) - footprint_bias)/0.99970\n",
       "    Bias_Correction_landTG: XCO2_Bias_Corrected = (XCO2_Raw + 0.770*(dpfrac + 0.300) + 0.0250*(co2_grad_del + 0.0) + 0.250*((logDWS>(-5.0)) + 5.00) - footprint_bias)/0.99970\n",
       "    Bias_Correction_oceanGL: XCO2_Bias_Corrected = (XCO2_Raw + 0.250*(dp_sco2 + 0.0) - 8.00*(sqrt(albedo_wco2) - 0.280) + 0.0175*(co2_grad_del + 15.0) + 2.00*(max_declocking_2 + 0.0) + 14.0*(aod_wa - 0.0100) - 2.00*(err - 0.460) - footprint_bias)/0.99970\n",
       "    Bias_Correction_oceanND: XCO2_Bias_Corrected = (XCO2_Raw + 0.250*(dp_sco2 + 0.0) - 8.00*(sqrt(albedo_wco2) - 0.280) + 0.0175*(co2_grad_del + 15.0) + 2.00*(max_declocking_2 + 0.0) + 14.0*(aod_wa - 0.0100) - 2.00*(err - 0.460) - footprint_bias)/0.99970\n",
       "    Footprint_bias_land: Assumed footprint biases in xco2 [ppm] for footprints 1-8: -0.51, -0.22, -0.16, -0.12, 0.09, 0.37, 0.15, 0.40\n",
       "    Footprint_bias_landTG: Assumed footprint biases in xco2 [ppm] for footprints 1-8: -0.51, -0.22, -0.16, -0.12, 0.09, 0.37, 0.15, 0.40\n",
       "    Footprint_bias_oceanGL: Assumed footprint biases in xco2 [ppm] for footprints 1-8: -0.50, -0.16, -0.16, -0.16, 0.06, 0.33, 0.10, 0.49\n",
       "    Footprint_bias_oceanND: Assumed footprint biases in xco2 [ppm] for footprints 1-8: -0.50, -0.16, -0.16, -0.16, 0.06, 0.33, 0.10, 0.49\n",
       "    Bias_Uncertainty: Bias correction parameter uncertainties are given in the data users guide.\n",
       "    Note_regarding_bias_correction: There is some uncertainty in not only the bias correction coefficients but in the chosen parameters themselves. This release bias correction may be slightly different that of previous releases, and also somewhat different from those of previous ACOS algorithm versions.  This has to do with details of the particular retrieval algorithm version and is considered normal (though not ideal).\n",
       "    BuildId: B11.0.14\n",
       "    CollectionLabel: Lite_B11014Ar_r02\n",
       "    gesdisc_collection: 11r\n",
       "    identifier_product_doi: 10.5067/5Q8JLZL1VD4A\n",
       "    identifier_product_doi_authority: http://dx.doi.org/\n",
       "    Platform: OCO-2\n",
       "    Sensor: OCO-2\n",
       "    L2FullPhysicsExeVersion: SVN-B11.0.05_rc2-38127\n",
       "    title: OCO-2 L2FP Lite Output\n",
       "    contact: Chris O'Dell: Christopher.ODell@colostate.edu\n",
       "    creation_date: Feb 06, 2023\n",
       "    history: Subset by NASA GES DISC Level 2 Subsetter v1.5.3.6 at 2023-02-11 04:35:51.693601. CF Conventions v1.7 Compliance Filter applied. Subset parameters: {\"PRODUCT\": [\"OCO2_L2_Lite_FP.11r\"], \"INFILENAMES\": [\"oco2_LtCO2_160101_B11014Ar_230206210311s.nc4\"], \"INFILETYPE\": [\"nc4\"], \"OUTFILETYPE\": [\"nc4\"], \"TIMENAME\": [[\"UNIX\", \"/time\"]], \"BOXLONRANGE\": [-180.0, 180.0], \"BOXLATRANGE\": [-90.0, 90.0], \"TIMERANGE\": [189399850.0, 7242772221.0], \"GRIDTYPES\": [\"SOUNDER\"], \"CONVERTFILETYPE\": [false]}\n",
       "    dimensions(sizes): sounding_id(125054), epoch_dimension(7), levels(20), bands(3), vertices(4), footprints(8), source_files(14)\n",
       "    variables(dimensions): uint32 sounding_id_idx(sounding_id), float32 longitude(sounding_id), float32 latitude(sounding_id), float64 time(sounding_id), uint16 epoch_dimension(epoch_dimension), uint64 sounding_id(sounding_id), int16 levels(levels), int16 bands(bands), int16 vertices(vertices), int16 footprints(footprints), int16 date(sounding_id, epoch_dimension), float32 solar_zenith_angle(sounding_id), float32 sensor_zenith_angle(sounding_id), int8 xco2_quality_flag(sounding_id), uint64 xco2_qf_bitflag(sounding_id), uint8 xco2_qf_simple_bitflag(sounding_id), <class 'str'> source_files(source_files), uint8 file_index(sounding_id), float32 vertex_latitude(sounding_id, vertices), float32 vertex_longitude(sounding_id, vertices), float32 xco2(sounding_id), float32 xco2_uncertainty(sounding_id), float32 xco2_apriori(sounding_id), float32 pressure_levels(sounding_id, levels), float32 co2_profile_apriori(sounding_id, levels), float32 xco2_averaging_kernel(sounding_id, levels), float32 pressure_weight(sounding_id, levels)\n",
       "    groups: Meteorology, Preprocessors, Retrieval, Sounding"
      ]
     },
     "execution_count": 59,
     "metadata": {},
     "output_type": "execute_result"
    }
   ],
   "source": [
    "ds"
   ]
  },
  {
   "cell_type": "code",
   "execution_count": 64,
   "metadata": {},
   "outputs": [
    {
     "name": "stdout",
     "output_type": "stream",
     "text": [
      "dict_keys(['sounding_id_idx', 'longitude', 'latitude', 'time', 'epoch_dimension', 'sounding_id', 'levels', 'bands', 'vertices', 'footprints', 'date', 'solar_zenith_angle', 'sensor_zenith_angle', 'xco2_quality_flag', 'xco2_qf_bitflag', 'xco2_qf_simple_bitflag', 'source_files', 'file_index', 'vertex_latitude', 'vertex_longitude', 'xco2', 'xco2_uncertainty', 'xco2_apriori', 'pressure_levels', 'co2_profile_apriori', 'xco2_averaging_kernel', 'pressure_weight'])\n",
      "<class 'netCDF4._netCDF4.Variable'>\n",
      "float32 xco2_averaging_kernel(sounding_id, levels)\n",
      "    _FillValue: -999999.0\n",
      "    units: none\n",
      "    long_name: XCO2 Column Averaging Kernel\n",
      "    missing_value: -999999.0\n",
      "    comment: Normalized XCO2 averaging kernel; Defined on layer boundaries. These are oriented space-to-surface, so the first element defines the TOA, the last element defines the surface.\n",
      "    coordinates: longitude latitude\n",
      "unlimited dimensions: \n",
      "current shape = (125054, 20)\n",
      "filling on\n"
     ]
    }
   ],
   "source": [
    "print(ds.variables.keys())\n",
    "print(ds.variables['xco2_averaging_kernel'])"
   ]
  },
  {
   "cell_type": "code",
   "execution_count": 65,
   "metadata": {},
   "outputs": [
    {
     "data": {
      "text/plain": [
       "(125054, 20)"
      ]
     },
     "execution_count": 65,
     "metadata": {},
     "output_type": "execute_result"
    }
   ],
   "source": [
    "longitude = ds.variables['longitude'][:]\n",
    "latitude = ds.variables['latitude'][:]\n",
    "xco2 = ds.variables['xco2'][:]\n",
    "pressure_levels = ds.variables['pressure_levels'][:]\n",
    "pressure_levels.shape"
   ]
  },
  {
   "cell_type": "code",
   "execution_count": 66,
   "metadata": {},
   "outputs": [
    {
     "data": {
      "text/plain": [
       "[(-84.39751, -58.438766, 399.34525),\n",
       " (-84.40473, -58.61123, 402.78195),\n",
       " (-84.60456, -60.857105, 390.64072),\n",
       " (-84.61074, -61.034943, 387.77942)]"
      ]
     },
     "execution_count": 66,
     "metadata": {},
     "output_type": "execute_result"
    }
   ],
   "source": [
    "list_of_tuples = list(zip(latitude, longitude, xco2))\n",
    "list_of_tuples[:4]"
   ]
  },
  {
   "cell_type": "code",
   "execution_count": 67,
   "metadata": {},
   "outputs": [
    {
     "data": {
      "text/html": [
       "<div>\n",
       "<style scoped>\n",
       "    .dataframe tbody tr th:only-of-type {\n",
       "        vertical-align: middle;\n",
       "    }\n",
       "\n",
       "    .dataframe tbody tr th {\n",
       "        vertical-align: top;\n",
       "    }\n",
       "\n",
       "    .dataframe thead th {\n",
       "        text-align: right;\n",
       "    }\n",
       "</style>\n",
       "<table border=\"1\" class=\"dataframe\">\n",
       "  <thead>\n",
       "    <tr style=\"text-align: right;\">\n",
       "      <th></th>\n",
       "      <th>latitude</th>\n",
       "      <th>longitude</th>\n",
       "      <th>xco2</th>\n",
       "    </tr>\n",
       "  </thead>\n",
       "  <tbody>\n",
       "    <tr>\n",
       "      <th>0</th>\n",
       "      <td>-84.397507</td>\n",
       "      <td>-58.438766</td>\n",
       "      <td>399.345245</td>\n",
       "    </tr>\n",
       "    <tr>\n",
       "      <th>1</th>\n",
       "      <td>-84.404732</td>\n",
       "      <td>-58.611229</td>\n",
       "      <td>402.781952</td>\n",
       "    </tr>\n",
       "    <tr>\n",
       "      <th>2</th>\n",
       "      <td>-84.604561</td>\n",
       "      <td>-60.857105</td>\n",
       "      <td>390.640717</td>\n",
       "    </tr>\n",
       "    <tr>\n",
       "      <th>3</th>\n",
       "      <td>-84.610741</td>\n",
       "      <td>-61.034943</td>\n",
       "      <td>387.779419</td>\n",
       "    </tr>\n",
       "    <tr>\n",
       "      <th>4</th>\n",
       "      <td>-84.581253</td>\n",
       "      <td>-62.828384</td>\n",
       "      <td>394.969635</td>\n",
       "    </tr>\n",
       "  </tbody>\n",
       "</table>\n",
       "</div>"
      ],
      "text/plain": [
       "    latitude  longitude        xco2\n",
       "0 -84.397507 -58.438766  399.345245\n",
       "1 -84.404732 -58.611229  402.781952\n",
       "2 -84.604561 -60.857105  390.640717\n",
       "3 -84.610741 -61.034943  387.779419\n",
       "4 -84.581253 -62.828384  394.969635"
      ]
     },
     "execution_count": 67,
     "metadata": {},
     "output_type": "execute_result"
    }
   ],
   "source": [
    "ds1 = pd.DataFrame(list_of_tuples, columns=['latitude', 'longitude', 'xco2'])\n",
    "ds1.head()"
   ]
  },
  {
   "cell_type": "code",
   "execution_count": 68,
   "metadata": {},
   "outputs": [
    {
     "name": "stdout",
     "output_type": "stream",
     "text": [
      "[[8.69421437e-02 4.57590256e+01 9.15180511e+01 ... 7.77903442e+02\n",
      "  8.23662476e+02 8.69421448e+02]\n",
      " [8.73793513e-02 4.59891281e+01 9.19782562e+01 ... 7.81815247e+02\n",
      "  8.27804382e+02 8.73793518e+02]\n",
      " [8.70720819e-02 4.58274117e+01 9.16548233e+01 ... 7.79065979e+02\n",
      "  8.24893433e+02 8.70720825e+02]\n",
      " ...\n",
      " [9.77610126e-02 5.14531670e+01 1.02906334e+02 ... 8.74703796e+02\n",
      "  9.26156982e+02 9.77610107e+02]\n",
      " [9.75979939e-02 5.13673706e+01 1.02734741e+02 ... 8.73245300e+02\n",
      "  9.24612610e+02 9.75980042e+02]\n",
      " [9.79417190e-02 5.15482750e+01 1.03096550e+02 ... 8.76320679e+02\n",
      "  9.27868958e+02 9.79417236e+02]]\n"
     ]
    }
   ],
   "source": [
    "print(ds.variables['pressure_levels'][:])"
   ]
  },
  {
   "cell_type": "code",
   "execution_count": 24,
   "metadata": {},
   "outputs": [
    {
     "ename": "TypeError",
     "evalue": "expected str, bytes or os.PathLike object, not tuple",
     "output_type": "error",
     "traceback": [
      "\u001b[1;31m---------------------------------------------------------------------------\u001b[0m",
      "\u001b[1;31mTypeError\u001b[0m                                 Traceback (most recent call last)",
      "Cell \u001b[1;32mIn [24], line 1\u001b[0m\n\u001b[1;32m----> 1\u001b[0m dstest \u001b[39m=\u001b[39m ds[\u001b[39m0\u001b[39;49m,\u001b[39m0\u001b[39;49m,:,:]\n",
      "File \u001b[1;32msrc\\netCDF4\\_netCDF4.pyx:2505\u001b[0m, in \u001b[0;36mnetCDF4._netCDF4.Dataset.__getitem__\u001b[1;34m()\u001b[0m\n",
      "File \u001b[1;32mC:\\Program Files\\WindowsApps\\PythonSoftwareFoundation.Python.3.9_3.9.3568.0_x64__qbz5n2kfra8p0\\lib\\posixpath.py:336\u001b[0m, in \u001b[0;36mnormpath\u001b[1;34m(path)\u001b[0m\n\u001b[0;32m    334\u001b[0m \u001b[39mdef\u001b[39;00m \u001b[39mnormpath\u001b[39m(path):\n\u001b[0;32m    335\u001b[0m     \u001b[39m\"\"\"Normalize path, eliminating double slashes, etc.\"\"\"\u001b[39;00m\n\u001b[1;32m--> 336\u001b[0m     path \u001b[39m=\u001b[39m os\u001b[39m.\u001b[39;49mfspath(path)\n\u001b[0;32m    337\u001b[0m     \u001b[39mif\u001b[39;00m \u001b[39misinstance\u001b[39m(path, \u001b[39mbytes\u001b[39m):\n\u001b[0;32m    338\u001b[0m         sep \u001b[39m=\u001b[39m \u001b[39mb\u001b[39m\u001b[39m'\u001b[39m\u001b[39m/\u001b[39m\u001b[39m'\u001b[39m\n",
      "\u001b[1;31mTypeError\u001b[0m: expected str, bytes or os.PathLike object, not tuple"
     ]
    }
   ],
   "source": [
    "dstest = ds[0,0,:,:]"
   ]
  },
  {
   "cell_type": "code",
   "execution_count": 19,
   "metadata": {},
   "outputs": [],
   "source": [
    "import matplotlib.pyplot as plt\n",
    "%matplotlib inline\n"
   ]
  },
  {
   "cell_type": "code",
   "execution_count": 69,
   "metadata": {},
   "outputs": [
    {
     "data": {
      "image/png": "[encoded data removed]",
      "text/plain": [
       "<Figure size 640x480 with 1 Axes>"
      ]
     },
     "metadata": {},
     "output_type": "display_data"
    }
   ],
   "source": [
    "cs = plt.contourf(ds1)"
   ]
  },
  {
   "cell_type": "code",
   "execution_count": null,
   "metadata": {},
   "outputs": [],
   "source": []
  }
 ],
 "metadata": {
  "kernelspec": {
   "display_name": "Python 3",
   "language": "python",
   "name": "python3"
  },
  "language_info": {
   "codemirror_mode": {
    "name": "ipython",
    "version": 3
   },
   "file_extension": ".py",
   "mimetype": "text/x-python",
   "name": "python",
   "nbconvert_exporter": "python",
   "pygments_lexer": "ipython3",
   "version": "3.9.13"
  },
  "orig_nbformat": 4,
  "vscode": {
   "interpreter": {
    "hash": "5de38ff2c14346d9925ae62abf9605a77cb25ddb303c64a1092fde9bd828a3f1"
   }
  }
 },
 "nbformat": 4,
 "nbformat_minor": 2
}
