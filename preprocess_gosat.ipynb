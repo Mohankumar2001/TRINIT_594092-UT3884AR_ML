{
 "cells": [
  {
   "cell_type": "code",
   "execution_count": 13,
   "metadata": {},
   "outputs": [],
   "source": [
    "import h5py\n",
    "import numpy as np\n",
    "import pandas as pd\n",
    "f = h5py.File('SWIRL2CO2\\GOSATTFTS20160101_02C01SV0290R160101GU000.h5', 'r')"
   ]
  },
  {
   "cell_type": "code",
   "execution_count": 14,
   "metadata": {},
   "outputs": [
    {
     "name": "stdout",
     "output_type": "stream",
     "text": [
      "Data\n",
      "<class 'h5py._hl.group.Group'>\n",
      "Global\n",
      "<class 'h5py._hl.group.Group'>\n",
      "ancillary\n",
      "<class 'h5py._hl.group.Group'>\n",
      "scanAttribute\n",
      "<class 'h5py._hl.group.Group'>\n"
     ]
    }
   ],
   "source": [
    "for key in f.keys():\n",
    "    print(key)\n",
    "    print(type(f[key]))"
   ]
  },
  {
   "cell_type": "code",
   "execution_count": 15,
   "metadata": {},
   "outputs": [],
   "source": [
    "Data = f['Data']\n",
    "Global = f['Global']\n",
    "ancillary = f['ancillary']\n",
    "scanAttribute = f['scanAttribute']"
   ]
  },
  {
   "cell_type": "code",
   "execution_count": 16,
   "metadata": {},
   "outputs": [
    {
     "data": {
      "text/plain": [
       "<KeysViewHDF5 ['auxiliaryParameter', 'geolocation', 'mixingRatio', 'retrievalQuality', 'totalColumn']>"
      ]
     },
     "execution_count": 16,
     "metadata": {},
     "output_type": "execute_result"
    }
   ],
   "source": [
    "Data.keys()"
   ]
  },
  {
   "cell_type": "code",
   "execution_count": 17,
   "metadata": {},
   "outputs": [
    {
     "data": {
      "text/plain": [
       "<KeysViewHDF5 ['XCO2', 'XCO2ExternalError', 'XCO2InterferenceError', 'XCO2RetrievalNoise', 'XCO2SmoothingError']>"
      ]
     },
     "execution_count": 17,
     "metadata": {},
     "output_type": "execute_result"
    }
   ],
   "source": [
    "Data['mixingRatio'].keys()"
   ]
  },
  {
   "cell_type": "code",
   "execution_count": 18,
   "metadata": {},
   "outputs": [],
   "source": [
    "xco2_gosat = Data['mixingRatio']['XCO2']"
   ]
  },
  {
   "cell_type": "code",
   "execution_count": 45,
   "metadata": {},
   "outputs": [],
   "source": [
    "lat = Data['geolocation']['latitude']\n",
    "lon = Data['geolocation']['longitude']\n",
    "lat_orig = Data['geolocation']['latitudeOriginal']\n",
    "lon_orig = Data['geolocation']['longitudeOriginal']\n",
    "xco2_gosat = Data['mixingRatio']['XCO2']\n",
    "xco2_exterr = Data['mixingRatio']['XCO2ExternalError']\n",
    "xco2_smoothingerr = Data['mixingRatio']['XCO2SmoothingError']\n",
    "xco2_interr = Data['mixingRatio']['XCO2InterferenceError']\n",
    "xco2_retnoise = Data['mixingRatio']['XCO2RetrievalNoise']\n",
    "scanID = scanAttribute['scanID']"
   ]
  },
  {
   "cell_type": "code",
   "execution_count": 24,
   "metadata": {},
   "outputs": [
    {
     "name": "stdout",
     "output_type": "stream",
     "text": [
      "16-01-01 00:25:02\n",
      "16-01-01 00:25:07\n",
      "16-01-01 00:25:48\n",
      "16-01-01 01:55:18\n",
      "16-01-01 01:55:23\n",
      "16-01-01 01:55:27\n",
      "16-01-01 01:56:55\n",
      "16-01-01 01:56:59\n",
      "16-01-01 01:57:50\n",
      "16-01-01 01:57:55\n",
      "16-01-01 01:57:59\n",
      "16-01-01 02:01:08\n",
      "16-01-01 02:01:13\n",
      "16-01-01 02:02:04\n",
      "16-01-01 02:02:08\n",
      "16-01-01 03:33:01\n",
      "16-01-01 03:33:06\n",
      "16-01-01 03:33:29\n",
      "16-01-01 03:33:38\n",
      "16-01-01 03:34:38\n",
      "16-01-01 03:34:43\n",
      "16-01-01 03:34:47\n",
      "16-01-01 03:34:56\n",
      "16-01-01 03:35:01\n",
      "16-01-01 03:36:01\n",
      "16-01-01 03:36:06\n",
      "16-01-01 03:36:10\n",
      "16-01-01 03:36:15\n",
      "16-01-01 03:36:19\n",
      "16-01-01 03:36:24\n",
      "16-01-01 03:36:29\n",
      "16-01-01 03:36:33\n",
      "16-01-01 03:36:38\n",
      "16-01-01 03:41:42\n",
      "16-01-01 04:59:50\n",
      "16-01-01 05:11:54\n",
      "16-01-01 05:11:58\n",
      "16-01-01 05:12:03\n",
      "16-01-01 05:13:16\n",
      "16-01-01 05:13:21\n",
      "16-01-01 05:13:26\n",
      "16-01-01 06:33:43\n",
      "16-01-01 06:33:52\n",
      "16-01-01 06:33:56\n",
      "16-01-01 06:34:01\n",
      "16-01-01 06:34:06\n",
      "16-01-01 06:34:38\n",
      "16-01-01 06:34:43\n",
      "16-01-01 06:34:47\n",
      "16-01-01 06:35:06\n",
      "16-01-01 06:35:10\n",
      "16-01-01 06:35:15\n",
      "16-01-01 06:35:19\n",
      "16-01-01 06:35:24\n",
      "16-01-01 06:35:29\n",
      "16-01-01 06:35:33\n",
      "16-01-01 06:35:38\n",
      "16-01-01 06:35:42\n",
      "16-01-01 06:38:19\n",
      "16-01-01 06:38:24\n",
      "16-01-01 06:38:28\n",
      "16-01-01 06:38:33\n",
      "16-01-01 06:38:38\n",
      "16-01-01 06:38:42\n",
      "16-01-01 06:38:47\n",
      "16-01-01 06:38:51\n",
      "16-01-01 06:38:56\n",
      "16-01-01 06:39:56\n",
      "16-01-01 06:40:01\n",
      "16-01-01 06:40:05\n",
      "16-01-01 06:51:09\n",
      "16-01-01 06:52:23\n",
      "16-01-01 06:52:27\n",
      "16-01-01 06:54:59\n",
      "16-01-01 06:55:09\n",
      "16-01-01 06:55:13\n",
      "16-01-01 06:55:18\n",
      "16-01-01 06:56:36\n",
      "16-01-01 06:56:41\n",
      "16-01-01 06:57:04\n",
      "16-01-01 06:57:09\n",
      "16-01-01 08:14:53\n",
      "16-01-01 08:14:58\n",
      "16-01-01 08:15:03\n",
      "16-01-01 08:15:07\n",
      "16-01-01 08:15:12\n",
      "16-01-01 08:15:17\n",
      "16-01-01 08:15:35\n",
      "16-01-01 08:15:53\n",
      "16-01-01 08:15:58\n",
      "16-01-01 08:16:03\n",
      "16-01-01 08:16:07\n",
      "16-01-01 08:16:12\n",
      "16-01-01 08:16:16\n",
      "16-01-01 08:16:21\n",
      "16-01-01 08:16:26\n",
      "16-01-01 08:16:30\n",
      "16-01-01 08:16:40\n",
      "16-01-01 08:16:58\n",
      "16-01-01 08:17:03\n",
      "16-01-01 08:17:07\n",
      "16-01-01 08:17:12\n",
      "16-01-01 08:17:16\n",
      "16-01-01 08:17:21\n",
      "16-01-01 08:17:26\n",
      "16-01-01 08:17:30\n",
      "16-01-01 08:17:35\n",
      "16-01-01 08:33:47\n",
      "16-01-01 08:33:52\n",
      "16-01-01 08:33:57\n",
      "16-01-01 08:34:43\n",
      "16-01-01 08:34:47\n",
      "16-01-01 09:54:41\n",
      "16-01-01 09:54:51\n",
      "16-01-01 09:55:09\n",
      "16-01-01 09:55:14\n",
      "16-01-01 09:55:18\n",
      "16-01-01 09:55:23\n",
      "16-01-01 09:55:27\n",
      "16-01-01 09:55:32\n",
      "16-01-01 09:55:37\n",
      "16-01-01 09:55:41\n",
      "16-01-01 09:55:46\n",
      "16-01-01 09:56:04\n",
      "16-01-01 09:56:09\n",
      "16-01-01 09:56:14\n",
      "16-01-01 09:56:18\n",
      "16-01-01 09:56:27\n",
      "16-01-01 09:56:46\n",
      "16-01-01 09:56:50\n",
      "16-01-01 09:56:55\n",
      "16-01-01 09:57:00\n",
      "16-01-01 09:57:04\n",
      "16-01-01 09:57:09\n",
      "16-01-01 09:57:55\n",
      "16-01-01 09:58:00\n",
      "16-01-01 09:58:04\n",
      "16-01-01 09:59:09\n",
      "16-01-01 09:59:13\n",
      "16-01-01 09:59:32\n",
      "16-01-01 09:59:36\n",
      "16-01-01 09:59:41\n",
      "16-01-01 10:07:17\n",
      "16-01-01 10:08:59\n",
      "16-01-01 10:09:03\n",
      "16-01-01 10:09:08\n",
      "16-01-01 10:09:59\n",
      "16-01-01 10:10:03\n",
      "16-01-01 11:27:48\n",
      "16-01-01 11:27:53\n",
      "16-01-01 11:27:57\n",
      "16-01-01 11:28:11\n",
      "16-01-01 11:28:57\n",
      "16-01-01 11:29:02\n",
      "16-01-01 11:29:06\n",
      "16-01-01 11:29:11\n",
      "16-01-01 11:29:16\n",
      "16-01-01 11:29:20\n",
      "16-01-01 11:31:43\n",
      "16-01-01 11:31:48\n",
      "16-01-01 11:31:52\n",
      "16-01-01 11:31:57\n",
      "16-01-01 11:32:02\n",
      "16-01-01 11:32:06\n",
      "16-01-01 11:32:52\n",
      "16-01-01 11:32:57\n",
      "16-01-01 11:33:01\n",
      "16-01-01 11:33:06\n",
      "16-01-01 11:33:11\n",
      "16-01-01 11:33:15\n",
      "16-01-01 11:33:20\n",
      "16-01-01 11:33:25\n",
      "16-01-01 11:33:29\n",
      "16-01-01 11:33:34\n",
      "16-01-01 11:33:38\n",
      "16-01-01 11:33:43\n",
      "16-01-01 11:34:01\n",
      "16-01-01 11:34:06\n",
      "16-01-01 11:34:11\n",
      "16-01-01 11:34:29\n",
      "16-01-01 11:34:34\n",
      "16-01-01 11:34:38\n",
      "16-01-01 11:35:20\n",
      "16-01-01 11:36:34\n",
      "16-01-01 11:36:38\n",
      "16-01-01 11:36:43\n",
      "16-01-01 11:36:47\n",
      "16-01-01 11:36:52\n",
      "16-01-01 11:36:57\n",
      "16-01-01 11:37:01\n",
      "16-01-01 11:37:06\n",
      "16-01-01 11:37:10\n",
      "16-01-01 11:37:15\n",
      "16-01-01 11:37:20\n",
      "16-01-01 11:37:24\n",
      "16-01-01 11:37:33\n",
      "16-01-01 11:37:38\n",
      "16-01-01 11:47:23\n",
      "16-01-01 11:47:28\n",
      "16-01-01 11:47:33\n",
      "16-01-01 11:48:05\n",
      "16-01-01 11:48:10\n",
      "16-01-01 11:48:14\n",
      "16-01-01 11:52:23\n",
      "16-01-01 13:08:03\n",
      "16-01-01 13:08:08\n",
      "16-01-01 13:08:13\n",
      "16-01-01 13:08:17\n",
      "16-01-01 13:08:22\n",
      "16-01-01 13:08:26\n",
      "16-01-01 13:08:45\n",
      "16-01-01 13:08:49\n",
      "16-01-01 13:08:54\n",
      "16-01-01 13:08:59\n",
      "16-01-01 13:09:03\n",
      "16-01-01 13:09:12\n",
      "16-01-01 13:09:17\n",
      "16-01-01 13:09:22\n",
      "16-01-01 13:09:26\n",
      "16-01-01 13:09:31\n",
      "16-01-01 13:09:36\n",
      "16-01-01 13:09:40\n",
      "16-01-01 13:09:45\n",
      "16-01-01 13:09:49\n",
      "16-01-01 13:09:54\n",
      "16-01-01 13:09:59\n",
      "16-01-01 13:10:03\n",
      "16-01-01 13:10:08\n",
      "16-01-01 13:10:12\n",
      "16-01-01 13:10:17\n",
      "16-01-01 13:10:22\n",
      "16-01-01 13:10:26\n",
      "16-01-01 13:10:31\n",
      "16-01-01 13:10:35\n",
      "16-01-01 13:10:40\n",
      "16-01-01 13:10:45\n",
      "16-01-01 13:10:49\n",
      "16-01-01 13:10:54\n",
      "16-01-01 13:10:59\n",
      "16-01-01 13:11:03\n",
      "16-01-01 13:11:08\n",
      "16-01-01 13:11:12\n",
      "16-01-01 13:11:31\n",
      "16-01-01 13:11:35\n",
      "16-01-01 13:11:40\n",
      "16-01-01 13:11:45\n",
      "16-01-01 13:11:49\n",
      "16-01-01 13:11:54\n",
      "16-01-01 13:15:44\n",
      "16-01-01 13:16:17\n",
      "16-01-01 13:21:25\n",
      "16-01-01 13:21:30\n",
      "16-01-01 13:21:35\n",
      "16-01-01 13:22:07\n",
      "16-01-01 13:22:11\n",
      "16-01-01 13:22:16\n",
      "16-01-01 13:23:44\n",
      "16-01-01 13:24:11\n",
      "16-01-01 13:24:16\n",
      "16-01-01 13:25:07\n",
      "16-01-01 13:25:11\n",
      "16-01-01 13:25:16\n",
      "16-01-01 13:25:34\n",
      "16-01-01 13:25:39\n",
      "16-01-01 13:25:44\n",
      "16-01-01 13:26:30\n",
      "16-01-01 13:26:39\n",
      "16-01-01 14:59:22\n",
      "16-01-01 14:59:27\n",
      "16-01-01 14:59:32\n",
      "16-01-01 14:59:36\n",
      "16-01-01 14:59:41\n",
      "16-01-01 14:59:45\n",
      "16-01-01 15:00:50\n",
      "16-01-01 15:00:55\n",
      "16-01-01 15:07:59\n",
      "16-01-01 15:08:03\n",
      "16-01-01 16:42:37\n",
      "16-01-01 16:43:47\n",
      "16-01-01 16:45:28\n",
      "16-01-01 16:45:56\n",
      "16-01-01 16:46:37\n",
      "16-01-01 16:46:42\n",
      "16-01-01 16:46:46\n",
      "16-01-01 18:07:40\n",
      "16-01-01 18:07:45\n",
      "16-01-01 18:07:49\n",
      "16-01-01 18:18:03\n",
      "16-01-01 18:18:12\n",
      "16-01-01 18:18:30\n",
      "16-01-01 18:18:35\n",
      "16-01-01 18:18:39\n",
      "16-01-01 19:39:43\n",
      "16-01-01 19:39:56\n",
      "16-01-01 19:40:01\n",
      "16-01-01 19:40:06\n",
      "16-01-01 19:40:10\n",
      "16-01-01 19:40:15\n",
      "16-01-01 19:40:19\n",
      "16-01-01 19:40:24\n",
      "16-01-01 19:40:33\n",
      "16-01-01 19:40:38\n",
      "16-01-01 19:40:42\n",
      "16-01-01 19:40:47\n",
      "16-01-01 19:41:01\n",
      "16-01-01 19:41:15\n",
      "16-01-01 19:44:56\n",
      "16-01-01 19:45:01\n",
      "16-01-01 19:45:05\n",
      "16-01-01 19:45:10\n",
      "16-01-01 19:45:14\n",
      "16-01-01 19:45:19\n",
      "16-01-01 21:18:40\n",
      "16-01-01 21:18:53\n",
      "16-01-01 21:19:53\n",
      "16-01-01 21:30:53\n",
      "16-01-01 21:36:29\n",
      "16-01-01 21:36:38\n",
      "16-01-01 21:37:52\n",
      "16-01-01 21:37:57\n",
      "16-01-01 21:38:01\n",
      "16-01-01 21:40:15\n",
      "16-01-01 21:40:20\n",
      "16-01-01 21:40:47\n",
      "16-01-01 23:14:40\n",
      "16-01-01 23:14:45\n",
      "16-01-01 23:14:49\n",
      "16-01-01 23:18:26\n",
      "16-01-01 23:18:31\n"
     ]
    }
   ],
   "source": [
    "timestamp = []\n",
    "for sid in scanID:\n",
    "    id = sid.decode('UTF-8') \n",
    "# id = ds_gosat['scanID'][0].decode('UTF-8')\n",
    "    time = id[1:3] + '-' + id[3:5] + '-' + id[5:7] + ' ' + id[7:9] + ':' + id[9:11] + ':' + id[11:13]\n",
    "    timestamp.append(time)\n",
    "    print(time)"
   ]
  },
  {
   "cell_type": "code",
   "execution_count": null,
   "metadata": {},
   "outputs": [],
   "source": [
    "print(timestamp)[:5]"
   ]
  },
  {
   "cell_type": "code",
   "execution_count": 46,
   "metadata": {},
   "outputs": [],
   "source": [
    "list_of_tuples_gosat = list(zip(lat, lon, lat_orig, lon_orig, xco2_gosat, xco2_exterr, xco2_smoothingerr, xco2_interr, xco2_retnoise, scanID, timestamp))"
   ]
  },
  {
   "cell_type": "code",
   "execution_count": 47,
   "metadata": {},
   "outputs": [
    {
     "data": {
      "text/html": [
       "<div>\n",
       "<style scoped>\n",
       "    .dataframe tbody tr th:only-of-type {\n",
       "        vertical-align: middle;\n",
       "    }\n",
       "\n",
       "    .dataframe tbody tr th {\n",
       "        vertical-align: top;\n",
       "    }\n",
       "\n",
       "    .dataframe thead th {\n",
       "        text-align: right;\n",
       "    }\n",
       "</style>\n",
       "<table border=\"1\" class=\"dataframe\">\n",
       "  <thead>\n",
       "    <tr style=\"text-align: right;\">\n",
       "      <th></th>\n",
       "      <th>latitude</th>\n",
       "      <th>longitude</th>\n",
       "      <th>latitudeOriginal</th>\n",
       "      <th>longitudeOriginal</th>\n",
       "      <th>xco2</th>\n",
       "      <th>external error</th>\n",
       "      <th>smoothing error</th>\n",
       "      <th>interference error</th>\n",
       "      <th>retrieval noise</th>\n",
       "      <th>scanID</th>\n",
       "      <th>timeStamp (YY-MM-DD hh:mm:ss)</th>\n",
       "    </tr>\n",
       "  </thead>\n",
       "  <tbody>\n",
       "    <tr>\n",
       "      <th>0</th>\n",
       "      <td>-44.988514</td>\n",
       "      <td>177.814880</td>\n",
       "      <td>-44.988514</td>\n",
       "      <td>177.814880</td>\n",
       "      <td>399.232819</td>\n",
       "      <td>-9999.0</td>\n",
       "      <td>0.793073</td>\n",
       "      <td>0.385816</td>\n",
       "      <td>1.149969</td>\n",
       "      <td>b'F160101002502423801'</td>\n",
       "      <td>16-01-01 00:25:02</td>\n",
       "    </tr>\n",
       "    <tr>\n",
       "      <th>1</th>\n",
       "      <td>-44.982891</td>\n",
       "      <td>177.815201</td>\n",
       "      <td>-44.982891</td>\n",
       "      <td>177.815201</td>\n",
       "      <td>399.239288</td>\n",
       "      <td>-9999.0</td>\n",
       "      <td>0.675786</td>\n",
       "      <td>0.289862</td>\n",
       "      <td>1.037871</td>\n",
       "      <td>b'F160101002507423801'</td>\n",
       "      <td>16-01-01 00:25:07</td>\n",
       "    </tr>\n",
       "    <tr>\n",
       "      <th>2</th>\n",
       "      <td>-47.462002</td>\n",
       "      <td>176.902328</td>\n",
       "      <td>-47.462002</td>\n",
       "      <td>176.902328</td>\n",
       "      <td>395.115906</td>\n",
       "      <td>-9999.0</td>\n",
       "      <td>0.783970</td>\n",
       "      <td>0.391290</td>\n",
       "      <td>1.142727</td>\n",
       "      <td>b'F160101002548423801'</td>\n",
       "      <td>16-01-01 00:25:48</td>\n",
       "    </tr>\n",
       "    <tr>\n",
       "      <th>3</th>\n",
       "      <td>-17.032183</td>\n",
       "      <td>158.270004</td>\n",
       "      <td>-17.032183</td>\n",
       "      <td>158.270004</td>\n",
       "      <td>393.027954</td>\n",
       "      <td>-9999.0</td>\n",
       "      <td>0.693490</td>\n",
       "      <td>0.300061</td>\n",
       "      <td>1.099909</td>\n",
       "      <td>b'F160101015518013301'</td>\n",
       "      <td>16-01-01 01:55:18</td>\n",
       "    </tr>\n",
       "    <tr>\n",
       "      <th>4</th>\n",
       "      <td>-17.028898</td>\n",
       "      <td>158.269897</td>\n",
       "      <td>-17.028898</td>\n",
       "      <td>158.269897</td>\n",
       "      <td>395.757751</td>\n",
       "      <td>-9999.0</td>\n",
       "      <td>0.676782</td>\n",
       "      <td>0.282090</td>\n",
       "      <td>1.085563</td>\n",
       "      <td>b'F160101015523013301'</td>\n",
       "      <td>16-01-01 01:55:23</td>\n",
       "    </tr>\n",
       "  </tbody>\n",
       "</table>\n",
       "</div>"
      ],
      "text/plain": [
       "    latitude   longitude  latitudeOriginal  longitudeOriginal        xco2  \\\n",
       "0 -44.988514  177.814880        -44.988514         177.814880  399.232819   \n",
       "1 -44.982891  177.815201        -44.982891         177.815201  399.239288   \n",
       "2 -47.462002  176.902328        -47.462002         176.902328  395.115906   \n",
       "3 -17.032183  158.270004        -17.032183         158.270004  393.027954   \n",
       "4 -17.028898  158.269897        -17.028898         158.269897  395.757751   \n",
       "\n",
       "   external error  smoothing error  interference error  retrieval noise  \\\n",
       "0         -9999.0         0.793073            0.385816         1.149969   \n",
       "1         -9999.0         0.675786            0.289862         1.037871   \n",
       "2         -9999.0         0.783970            0.391290         1.142727   \n",
       "3         -9999.0         0.693490            0.300061         1.099909   \n",
       "4         -9999.0         0.676782            0.282090         1.085563   \n",
       "\n",
       "                   scanID timeStamp (YY-MM-DD hh:mm:ss)  \n",
       "0  b'F160101002502423801'             16-01-01 00:25:02  \n",
       "1  b'F160101002507423801'             16-01-01 00:25:07  \n",
       "2  b'F160101002548423801'             16-01-01 00:25:48  \n",
       "3  b'F160101015518013301'             16-01-01 01:55:18  \n",
       "4  b'F160101015523013301'             16-01-01 01:55:23  "
      ]
     },
     "execution_count": 47,
     "metadata": {},
     "output_type": "execute_result"
    }
   ],
   "source": [
    "ds_gosat = pd.DataFrame(list_of_tuples_gosat, columns=['latitude', 'longitude', 'latitudeOriginal', 'longitudeOriginal', 'xco2', 'external error', 'smoothing error', 'interference error', 'retrieval noise', 'scanID', 'timeStamp (YY-MM-DD hh:mm:ss)'])\n",
    "ds_gosat.head()"
   ]
  },
  {
   "cell_type": "code",
   "execution_count": 44,
   "metadata": {},
   "outputs": [],
   "source": [
    "ds_gosat.to_csv('./oco2_processed/ds_gosat.csv', index=False)"
   ]
  },
  {
   "cell_type": "code",
   "execution_count": 28,
   "metadata": {},
   "outputs": [
    {
     "data": {
      "text/plain": [
       "(329, 7)"
      ]
     },
     "execution_count": 28,
     "metadata": {},
     "output_type": "execute_result"
    }
   ],
   "source": [
    "ds_gosat.shape"
   ]
  },
  {
   "cell_type": "code",
   "execution_count": 29,
   "metadata": {},
   "outputs": [
    {
     "data": {
      "text/plain": [
       "<KeysViewHDF5 ['cloudInformation', 'crossTrackObservationPoint', 'numScan', 'qualityInformation', 'referenceData', 'scanDirection', 'scanDuration', 'scanID', 'sensor', 'time']>"
      ]
     },
     "execution_count": 29,
     "metadata": {},
     "output_type": "execute_result"
    }
   ],
   "source": [
    "scanAttribute.keys()"
   ]
  },
  {
   "cell_type": "code",
   "execution_count": 30,
   "metadata": {},
   "outputs": [],
   "source": [
    "scanID = pd.DataFrame(scanAttribute['scanID'])"
   ]
  },
  {
   "cell_type": "code",
   "execution_count": 31,
   "metadata": {},
   "outputs": [
    {
     "name": "stdout",
     "output_type": "stream",
     "text": [
      "auxiliaryParameter\n",
      "geolocation\n",
      "mixingRatio\n",
      "retrievalQuality\n",
      "totalColumn\n",
      "\n",
      "MD_Metadata\n",
      "metadata\n",
      "\n",
      "FTSL1BDataInformation\n",
      "FTSL2DataInformation\n",
      "procStatusInformation\n",
      "\n",
      "cloudInformation\n",
      "crossTrackObservationPoint\n",
      "numScan\n",
      "qualityInformation\n",
      "referenceData\n",
      "scanDirection\n",
      "scanDuration\n",
      "scanID\n",
      "sensor\n",
      "time\n",
      "\n"
     ]
    }
   ],
   "source": [
    "for s in f.keys():\n",
    "    for ss in f[s].keys():\n",
    "        print(ss)\n",
    "    print()"
   ]
  },
  {
   "cell_type": "code",
   "execution_count": 32,
   "metadata": {},
   "outputs": [
    {
     "data": {
      "text/plain": [
       "<KeysViewHDF5 ['aerosolOpticalThickness', 'dryAirTotalColumn', 'surfaceAlbedo', 'surfacePressure']>"
      ]
     },
     "execution_count": 32,
     "metadata": {},
     "output_type": "execute_result"
    }
   ],
   "source": [
    "Data['auxiliaryParameter'].keys()"
   ]
  },
  {
   "cell_type": "code",
   "execution_count": 33,
   "metadata": {},
   "outputs": [
    {
     "data": {
      "text/plain": [
       "h5py._hl.dataset.Dataset"
      ]
     },
     "execution_count": 33,
     "metadata": {},
     "output_type": "execute_result"
    }
   ],
   "source": [
    "type(Data['auxiliaryParameter']['aerosolOpticalThickness'])"
   ]
  },
  {
   "cell_type": "code",
   "execution_count": 34,
   "metadata": {},
   "outputs": [
    {
     "data": {
      "text/plain": [
       "<HDF5 dataset \"aerosolOpticalThickness\": shape (329, 13, 3), type \"<f4\">"
      ]
     },
     "execution_count": 34,
     "metadata": {},
     "output_type": "execute_result"
    }
   ],
   "source": [
    "Data['auxiliaryParameter']['aerosolOpticalThickness']"
   ]
  },
  {
   "cell_type": "code",
   "execution_count": 35,
   "metadata": {},
   "outputs": [
    {
     "data": {
      "text/plain": [
       "array([[[0.02655258, 0.01624577, 0.0103068 ],\n",
       "        [0.02531948, 0.01496391, 0.01035557],\n",
       "        [0.02059273, 0.01004073, 0.010552  ],\n",
       "        ...,\n",
       "        [0.01230469, 0.00051667, 0.01178802],\n",
       "        [0.0110815 , 0.00024017, 0.01084133],\n",
       "        [0.01051392, 0.00021013, 0.01030379]],\n",
       "\n",
       "       [[0.02436155, 0.01457566, 0.00978589],\n",
       "        [0.02326002, 0.01342794, 0.00983208],\n",
       "        [0.01903612, 0.00901688, 0.01001924],\n",
       "        ...,\n",
       "        [0.01164957, 0.00046615, 0.01118342],\n",
       "        [0.01049624, 0.00021678, 0.01027946],\n",
       "        [0.00995687, 0.00018977, 0.00976709]],\n",
       "\n",
       "       [[0.07325747, 0.04671462, 0.02654286],\n",
       "        [0.06959281, 0.04292172, 0.02667109],\n",
       "        [0.05561676, 0.02842773, 0.02718903],\n",
       "        ...,\n",
       "        [0.03182233, 0.00128328, 0.03053906],\n",
       "        [0.02866813, 0.00058742, 0.02808071],\n",
       "        [0.02715495, 0.00049569, 0.02665927]],\n",
       "\n",
       "       ...,\n",
       "\n",
       "       [[0.01793006, 0.01044429, 0.00748577],\n",
       "        [0.01731374, 0.0097981 , 0.00751564],\n",
       "        [0.01472465, 0.00707582, 0.00764883],\n",
       "        ...,\n",
       "        [0.0088338 , 0.00047806, 0.00835574],\n",
       "        [0.00815698, 0.00022757, 0.00792941],\n",
       "        [0.00786849, 0.00018607, 0.00768242]],\n",
       "\n",
       "       [[0.05265828, 0.01198765, 0.04067063],\n",
       "        [0.05194021, 0.01112849, 0.04081172],\n",
       "        [0.04925049, 0.00768739, 0.0415631 ],\n",
       "        ...,\n",
       "        [0.0461305 , 0.00042682, 0.04570368],\n",
       "        [0.04533689, 0.00019809, 0.0451388 ],\n",
       "        [0.04471267, 0.00016747, 0.0445452 ]],\n",
       "\n",
       "       [[0.05650964, 0.01145096, 0.04505868],\n",
       "        [0.05584182, 0.01062755, 0.04521427],\n",
       "        [0.05338056, 0.00733539, 0.04604517],\n",
       "        ...,\n",
       "        [0.05102922, 0.00040725, 0.05062197],\n",
       "        [0.05025865, 0.00018908, 0.05006958],\n",
       "        [0.04960697, 0.00016012, 0.04944685]]], dtype=float32)"
      ]
     },
     "execution_count": 35,
     "metadata": {},
     "output_type": "execute_result"
    }
   ],
   "source": [
    "x = np.array(Data['auxiliaryParameter']['aerosolOpticalThickness'])\n",
    "x"
   ]
  },
  {
   "cell_type": "code",
   "execution_count": 88,
   "metadata": {},
   "outputs": [
    {
     "data": {
      "text/plain": [
       "array(['auxiliaryParameter', 'geolocation', 'mixingRatio',\n",
       "       'retrievalQuality', 'totalColumn'], dtype='<U18')"
      ]
     },
     "execution_count": 88,
     "metadata": {},
     "output_type": "execute_result"
    }
   ],
   "source": [
    "n1 = np.array(group)\n",
    "n1"
   ]
  },
  {
   "cell_type": "code",
   "execution_count": 86,
   "metadata": {},
   "outputs": [
    {
     "data": {
      "text/plain": [
       "array(['auxiliaryParameter', 'geolocation', 'mixingRatio',\n",
       "       'retrievalQuality', 'totalColumn'], dtype='<U18')"
      ]
     },
     "execution_count": 86,
     "metadata": {},
     "output_type": "execute_result"
    }
   ],
   "source": [
    "n1 = f.get('Data')\n",
    "n1 = np.array(n1)\n",
    "n1"
   ]
  },
  {
   "cell_type": "code",
   "execution_count": null,
   "metadata": {},
   "outputs": [],
   "source": []
  }
 ],
 "metadata": {
  "kernelspec": {
   "display_name": "base",
   "language": "python",
   "name": "python3"
  },
  "language_info": {
   "codemirror_mode": {
    "name": "ipython",
    "version": 3
   },
   "file_extension": ".py",
   "mimetype": "text/x-python",
   "name": "python",
   "nbconvert_exporter": "python",
   "pygments_lexer": "ipython3",
   "version": "3.9.13"
  },
  "orig_nbformat": 4,
  "vscode": {
   "interpreter": {
    "hash": "610a6f344c2137faf927ea819c63f6cee33a2c04455044b28099f39fe9722347"
   }
  }
 },
 "nbformat": 4,
 "nbformat_minor": 2
}
